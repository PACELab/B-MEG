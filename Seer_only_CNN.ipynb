{
 "cells": [
  {
   "cell_type": "code",
   "execution_count": 1,
   "id": "ac1f6e27",
   "metadata": {},
   "outputs": [],
   "source": [
    "import os\n",
    "import sys\n",
    "import numpy as np\n",
    "import pandas as pd\n",
    "from keras.models import Sequential\n",
    "from keras.layers import Dense, Conv2D, Flatten, Conv1D, Input, Dropout, MaxPooling1D\n",
    "from keras import optimizers\n",
    "import pickle\n",
    "from sklearn.model_selection import train_test_split\n",
    "from sklearn.metrics import confusion_matrix, accuracy_score, precision_score, recall_score, f1_score"
   ]
  },
  {
   "cell_type": "code",
   "execution_count": 2,
   "id": "311695f6",
   "metadata": {},
   "outputs": [
    {
     "name": "stdout",
     "output_type": "stream",
     "text": [
      "<class 'pandas.core.frame.DataFrame'>\n",
      "(3999996, 7)\n"
     ]
    }
   ],
   "source": [
    "filehandler = open(\"../data/sample_data/hotel_reservation_only_bottlenecks_sample.pkl\",\"rb\")\n",
    "dat = pickle.load(filehandler)\n",
    "filehandler.close()\n",
    "print(type(dat))\n",
    "print(dat.shape)"
   ]
  },
  {
   "cell_type": "code",
   "execution_count": 3,
   "id": "cdac241e",
   "metadata": {},
   "outputs": [],
   "source": [
    "batch_size = 4"
   ]
  },
  {
   "cell_type": "code",
   "execution_count": 4,
   "id": "29cdb5fc",
   "metadata": {},
   "outputs": [],
   "source": [
    "df = dat.copy()\n",
    "X = df.drop(columns = \"label\")\n",
    "y = df.loc[:, \"label\"]"
   ]
  },
  {
   "cell_type": "code",
   "execution_count": 5,
   "id": "604caaa8",
   "metadata": {},
   "outputs": [],
   "source": [
    "X_train, X_test, y_train, y_test = train_test_split(X, y, test_size=0.2, random_state=42)\n",
    "X_train = X_train.reset_index()\n",
    "X_train = X_train.drop(columns = \"index\")\n",
    "X_test = X_test.reset_index()\n",
    "X_test = X_test.drop(columns = \"index\")\n",
    "\n",
    "y_train = y_train.reset_index()\n",
    "y_train = y_train.drop(columns = \"index\")\n",
    "y_train = y_train.loc[:, \"label\"]\n",
    "y_test = y_test.reset_index()\n",
    "y_test = y_test.drop(columns = \"index\")\n",
    "y_test = y_test.loc[:, \"label\"]\n"
   ]
  },
  {
   "cell_type": "code",
   "execution_count": 6,
   "id": "423935a3",
   "metadata": {},
   "outputs": [],
   "source": [
    "X_count = X_train.shape[0]\n",
    "batch_count= X_count // batch_size\n",
    "\n",
    "X_train_batch_list = []\n",
    "y_train_batch_list = []\n",
    "\n",
    "\n",
    "shuffled_range = range(X_count)\n",
    "shuffled_X = X_train.iloc[shuffled_range, :]\n",
    "shuffled_Y = [y_train[i] for i in shuffled_range]\n",
    "for i in range(0, 10):\n",
    "\n",
    "    y_train_batch = shuffled_Y[i*batch_size :(i +1)* batch_size]\n",
    "    X_train_batch = shuffled_X[i*batch_size :(i +1)* batch_size]\n",
    "\n",
    "    y_train_batch_list.append(y_train_batch)\n",
    "    X_train_batch_list.append(X_train_batch)\n",
    "        \n",
    "        # vectorizer.fit_transform(train_data[i:i + batchSize])\n",
    "        # Update the classifier with documents in the current mini-batch\n"
   ]
  },
  {
   "cell_type": "code",
   "execution_count": 7,
   "id": "e5219cde",
   "metadata": {},
   "outputs": [
    {
     "name": "stdout",
     "output_type": "stream",
     "text": [
      "After reshape train data set shape:\n",
      " (4, 6, 1)\n",
      "1 Sample shape:\n",
      " (6, 1)\n",
      "An example sample:\n",
      " [[0.87874428]\n",
      " [0.02903283]\n",
      " [0.01747466]\n",
      " [0.02536331]\n",
      " [0.02607459]\n",
      " [0.02331032]]\n"
     ]
    }
   ],
   "source": [
    "train_data_pd = X_train_batch_list[0]\n",
    "train_label = y_train_batch_list[0]\n",
    "train_data = train_data_pd.to_numpy()\n",
    "\n",
    "sample_size = train_data.shape[0] # number of samples in train set\n",
    "time_steps  = train_data.shape[1] # number of features in train set\n",
    "input_dimension = 1         \n",
    "\n",
    "train_data_reshaped = train_data.reshape(sample_size,time_steps,input_dimension)\n",
    "print(\"After reshape train data set shape:\\n\", train_data_reshaped.shape)\n",
    "print(\"1 Sample shape:\\n\",train_data_reshaped[0].shape)\n",
    "print(\"An example sample:\\n\", train_data_reshaped[0])\n"
   ]
  },
  {
   "cell_type": "code",
   "execution_count": 8,
   "id": "f784c6e1",
   "metadata": {},
   "outputs": [
    {
     "name": "stdout",
     "output_type": "stream",
     "text": [
      "Shape of the data input is:  6 1\n",
      "Model: \"sequential\"\n",
      "_________________________________________________________________\n",
      " Layer (type)                Output Shape              Param #   \n",
      "=================================================================\n",
      " conv1d (Conv1D)             (None, 5, 64)             192       \n",
      "                                                                 \n",
      " conv1d_1 (Conv1D)           (None, 4, 64)             8256      \n",
      "                                                                 \n",
      " conv1d_2 (Conv1D)           (None, 4, 64)             4160      \n",
      "                                                                 \n",
      " conv1d_3 (Conv1D)           (None, 4, 64)             4160      \n",
      "                                                                 \n",
      " conv1d_4 (Conv1D)           (None, 4, 64)             4160      \n",
      "                                                                 \n",
      " conv1d_5 (Conv1D)           (None, 4, 64)             4160      \n",
      "                                                                 \n",
      " conv1d_6 (Conv1D)           (None, 4, 64)             4160      \n",
      "                                                                 \n",
      " conv1d_7 (Conv1D)           (None, 4, 64)             4160      \n",
      "                                                                 \n",
      " flatten (Flatten)           (None, 256)               0         \n",
      "                                                                 \n",
      " dense (Dense)               (None, 6)                 1542      \n",
      "                                                                 \n",
      "=================================================================\n",
      "Total params: 34,950\n",
      "Trainable params: 34,950\n",
      "Non-trainable params: 0\n",
      "_________________________________________________________________\n"
     ]
    }
   ],
   "source": [
    "def build_conv1D_model():\n",
    "    n_timesteps = train_data_reshaped.shape[1] \n",
    "    n_features  = train_data_reshaped.shape[2] \n",
    "    print(\"Shape of the data input is: \", n_timesteps, n_features)\n",
    "    model = None\n",
    "    model = Sequential()\n",
    "    model.add(Input(shape=(n_timesteps,n_features)))\n",
    "    model.add(Conv1D(filters = 64, kernel_size = 2, activation = 'relu'))\n",
    "    # model.add(Dropout(0.2))\n",
    "    model.add(Conv1D(filters = 64, kernel_size = 2, activation = 'relu'))\n",
    "    model.add(Conv1D(filters = 64, kernel_size = 1, activation = 'relu'))\n",
    "    model.add(Conv1D(filters = 64, kernel_size = 1, activation = 'relu'))\n",
    "    model.add(Conv1D(filters = 64, kernel_size = 1, activation = 'relu'))\n",
    "    model.add(Conv1D(filters = 64, kernel_size = 1, activation = 'relu'))\n",
    "    model.add(Conv1D(filters = 64, kernel_size = 1, activation = 'relu'))\n",
    "    model.add(Conv1D(filters = 64, kernel_size = 1, activation = 'relu'))\n",
    "    model.add(Flatten())\n",
    "    model.add(Dense(6, activation = 'softmax'))\n",
    "\n",
    "    optimizer = \"adam\"\n",
    "\n",
    "    model.compile(loss='sparse_categorical_crossentropy', optimizer=optimizer, metrics=['accuracy'])\n",
    "    return model\n",
    "\n",
    "model_conv1D = build_conv1D_model()\n",
    "model_conv1D.summary()"
   ]
  },
  {
   "cell_type": "code",
   "execution_count": 9,
   "id": "ebf17e24",
   "metadata": {},
   "outputs": [
    {
     "name": "stdout",
     "output_type": "stream",
     "text": [
      "Epoch 1/10\n",
      "100000/100000 [==============================] - 639s 6ms/step - loss: 0.0359 - accuracy: 0.9879\n",
      "Epoch 2/10\n",
      "100000/100000 [==============================] - 574s 6ms/step - loss: 0.0324 - accuracy: 0.9890\n",
      "Epoch 3/10\n",
      "100000/100000 [==============================] - 511s 5ms/step - loss: 0.0320 - accuracy: 0.9891\n",
      "Epoch 4/10\n",
      "100000/100000 [==============================] - 556s 6ms/step - loss: 0.0319 - accuracy: 0.9892\n",
      "Epoch 5/10\n",
      "100000/100000 [==============================] - 886s 9ms/step - loss: 0.0317 - accuracy: 0.9893\n",
      "Epoch 6/10\n",
      "100000/100000 [==============================] - 801s 8ms/step - loss: 0.0317 - accuracy: 0.9892\n",
      "Epoch 7/10\n",
      "100000/100000 [==============================] - 774s 8ms/step - loss: 0.0319 - accuracy: 0.9893\n",
      "Epoch 8/10\n",
      "100000/100000 [==============================] - 798s 8ms/step - loss: 0.0318 - accuracy: 0.9893\n",
      "Epoch 9/10\n",
      "100000/100000 [==============================] - 763s 8ms/step - loss: 0.0317 - accuracy: 0.9892\n",
      "Epoch 10/10\n",
      "100000/100000 [==============================] - 766s 8ms/step - loss: 0.0319 - accuracy: 0.9891\n"
     ]
    }
   ],
   "source": [
    "X_train_arr = np.asarray(X_train.to_numpy())\n",
    "y_train_arr = np.asarray(y_train.to_numpy())\n",
    "history = model_conv1D.fit(X_train_arr, y_train_arr, epochs=10,\n",
    "                            verbose=1, batch_size = 4)"
   ]
  },
  {
   "cell_type": "code",
   "execution_count": 10,
   "id": "129893c1",
   "metadata": {},
   "outputs": [
    {
     "name": "stdout",
     "output_type": "stream",
     "text": [
      "100000/100000 [==============================] - 338s 3ms/step - loss: 0.0316 - accuracy: 0.9892\n",
      "Loss: 0.031602367758750916  Accuracy: 0.9891618490219116\n"
     ]
    }
   ],
   "source": [
    "acc = model_conv1D.evaluate(X_train, y_train)\n",
    "print(\"Loss:\", acc[0], \" Accuracy:\", acc[1])"
   ]
  },
  {
   "cell_type": "code",
   "execution_count": 11,
   "id": "73bc6ab6",
   "metadata": {},
   "outputs": [],
   "source": [
    "pred = model_conv1D.predict(X_test)\n",
    "pred_y = pred.argmax(axis=-1)\n",
    "cm = confusion_matrix(y_test, pred_y)"
   ]
  },
  {
   "cell_type": "code",
   "execution_count": 12,
   "id": "3daf9478",
   "metadata": {},
   "outputs": [
    {
     "data": {
      "text/plain": [
       "array([[132237,    246,    185,    161,    203,    262],\n",
       "       [   368, 131569,    250,    230,    296,    342],\n",
       "       [   319,    384, 131707,    142,    227,    323],\n",
       "       [   370,    337,    304, 132123,    296,    261],\n",
       "       [   313,    319,    212,    267, 131809,    360],\n",
       "       [   410,    457,    333,    277,    337, 131764]], dtype=int64)"
      ]
     },
     "execution_count": 12,
     "metadata": {},
     "output_type": "execute_result"
    }
   ],
   "source": [
    "cm"
   ]
  },
  {
   "cell_type": "code",
   "execution_count": 13,
   "id": "d14fe7f9",
   "metadata": {},
   "outputs": [
    {
     "name": "stdout",
     "output_type": "stream",
     "text": [
      "0.98901125\n"
     ]
    }
   ],
   "source": [
    "print(accuracy_score(y_test, pred_y))"
   ]
  },
  {
   "cell_type": "code",
   "execution_count": null,
   "id": "48b07196",
   "metadata": {},
   "outputs": [],
   "source": []
  }
 ],
 "metadata": {
  "kernelspec": {
   "display_name": "sg",
   "language": "python",
   "name": "sg"
  },
  "language_info": {
   "codemirror_mode": {
    "name": "ipython",
    "version": 3
   },
   "file_extension": ".py",
   "mimetype": "text/x-python",
   "name": "python",
   "nbconvert_exporter": "python",
   "pygments_lexer": "ipython3",
   "version": "3.8.12"
  }
 },
 "nbformat": 4,
 "nbformat_minor": 5
}
