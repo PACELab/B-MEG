{
 "cells": [
  {
   "cell_type": "code",
   "execution_count": 13,
   "id": "ac1f6e27",
   "metadata": {},
   "outputs": [],
   "source": [
    "import os\n",
    "import sys\n",
    "import numpy as np\n",
    "import pandas as pd\n",
    "from keras.models import Sequential\n",
    "from keras.layers import Dense, Conv2D, Flatten, Conv1D, Input, Dropout, MaxPooling1D, LSTM\n",
    "from keras import optimizers\n",
    "import pickle\n",
    "from sklearn.model_selection import train_test_split\n",
    "from sklearn.metrics import confusion_matrix, accuracy_score, precision_score, recall_score, f1_score"
   ]
  },
  {
   "cell_type": "code",
   "execution_count": 2,
   "id": "311695f6",
   "metadata": {},
   "outputs": [
    {
     "name": "stdout",
     "output_type": "stream",
     "text": [
      "<class 'pandas.core.frame.DataFrame'>\n",
      "(3999996, 7)\n"
     ]
    }
   ],
   "source": [
    "filehandler = open(\"../data/sample_data/hotel_reservation_only_bottlenecks_sample.pkl\",\"rb\")\n",
    "dat = pickle.load(filehandler)\n",
    "filehandler.close()\n",
    "print(type(dat))\n",
    "print(dat.shape)"
   ]
  },
  {
   "cell_type": "code",
   "execution_count": 3,
   "id": "cdac241e",
   "metadata": {},
   "outputs": [],
   "source": [
    "batch_size = 4"
   ]
  },
  {
   "cell_type": "code",
   "execution_count": 4,
   "id": "29cdb5fc",
   "metadata": {},
   "outputs": [],
   "source": [
    "df = dat.copy()\n",
    "X = df.drop(columns = \"label\")\n",
    "y = df.loc[:, \"label\"]"
   ]
  },
  {
   "cell_type": "code",
   "execution_count": 5,
   "id": "604caaa8",
   "metadata": {},
   "outputs": [],
   "source": [
    "X_train, X_test, y_train, y_test = train_test_split(X, y, test_size=0.2, random_state=42)\n",
    "X_train = X_train.reset_index()\n",
    "X_train = X_train.drop(columns = \"index\")\n",
    "X_test = X_test.reset_index()\n",
    "X_test = X_test.drop(columns = \"index\")\n",
    "\n",
    "y_train = y_train.reset_index()\n",
    "y_train = y_train.drop(columns = \"index\")\n",
    "y_train = y_train.loc[:, \"label\"]\n",
    "y_test = y_test.reset_index()\n",
    "y_test = y_test.drop(columns = \"index\")\n",
    "y_test = y_test.loc[:, \"label\"]\n"
   ]
  },
  {
   "cell_type": "code",
   "execution_count": 6,
   "id": "423935a3",
   "metadata": {},
   "outputs": [],
   "source": [
    "X_count = X_train.shape[0]\n",
    "batch_count= X_count // batch_size\n",
    "\n",
    "X_train_batch_list = []\n",
    "y_train_batch_list = []\n",
    "\n",
    "\n",
    "shuffled_range = range(X_count)\n",
    "shuffled_X = X_train.iloc[shuffled_range, :]\n",
    "shuffled_Y = [y_train[i] for i in shuffled_range]\n",
    "for i in range(0, 10):\n",
    "\n",
    "    y_train_batch = shuffled_Y[i*batch_size :(i +1)* batch_size]\n",
    "    X_train_batch = shuffled_X[i*batch_size :(i +1)* batch_size]\n",
    "\n",
    "    y_train_batch_list.append(y_train_batch)\n",
    "    X_train_batch_list.append(X_train_batch)\n",
    "        \n",
    "        # vectorizer.fit_transform(train_data[i:i + batchSize])\n",
    "        # Update the classifier with documents in the current mini-batch\n"
   ]
  },
  {
   "cell_type": "code",
   "execution_count": 7,
   "id": "cb34acd7",
   "metadata": {},
   "outputs": [
    {
     "name": "stdout",
     "output_type": "stream",
     "text": [
      "After reshape train data set shape:\n",
      " (4, 6, 1)\n",
      "1 Sample shape:\n",
      " (6, 1)\n",
      "An example sample:\n",
      " [[0.87874428]\n",
      " [0.02903283]\n",
      " [0.01747466]\n",
      " [0.02536331]\n",
      " [0.02607459]\n",
      " [0.02331032]]\n"
     ]
    }
   ],
   "source": [
    "train_data_pd = X_train_batch_list[0]\n",
    "train_label = y_train_batch_list[0]\n",
    "train_data = train_data_pd.to_numpy()\n",
    "\n",
    "sample_size = train_data.shape[0] # number of samples in train set\n",
    "time_steps  = train_data.shape[1] # number of features in train set\n",
    "input_dimension = 1         \n",
    "\n",
    "train_data_reshaped = train_data.reshape(sample_size,time_steps,input_dimension)\n",
    "print(\"After reshape train data set shape:\\n\", train_data_reshaped.shape)\n",
    "print(\"1 Sample shape:\\n\",train_data_reshaped[0].shape)\n",
    "print(\"An example sample:\\n\", train_data_reshaped[0])\n"
   ]
  },
  {
   "cell_type": "code",
   "execution_count": 8,
   "id": "f784c6e1",
   "metadata": {},
   "outputs": [
    {
     "name": "stdout",
     "output_type": "stream",
     "text": [
      "Model: \"sequential\"\n",
      "_________________________________________________________________\n",
      " Layer (type)                Output Shape              Param #   \n",
      "=================================================================\n",
      " conv1d (Conv1D)             (None, 5, 64)             192       \n",
      "                                                                 \n",
      " conv1d_1 (Conv1D)           (None, 4, 64)             8256      \n",
      "                                                                 \n",
      " conv1d_2 (Conv1D)           (None, 4, 64)             4160      \n",
      "                                                                 \n",
      " conv1d_3 (Conv1D)           (None, 4, 64)             4160      \n",
      "                                                                 \n",
      " conv1d_4 (Conv1D)           (None, 4, 64)             4160      \n",
      "                                                                 \n",
      " conv1d_5 (Conv1D)           (None, 4, 64)             4160      \n",
      "                                                                 \n",
      " conv1d_6 (Conv1D)           (None, 4, 64)             4160      \n",
      "                                                                 \n",
      " lstm (LSTM)                 (None, 4, 64)             33024     \n",
      "                                                                 \n",
      " lstm_1 (LSTM)               (None, 4, 64)             33024     \n",
      "                                                                 \n",
      " lstm_2 (LSTM)               (None, 4, 64)             33024     \n",
      "                                                                 \n",
      " lstm_3 (LSTM)               (None, 4, 64)             33024     \n",
      "                                                                 \n",
      " lstm_4 (LSTM)               (None, 64)                33024     \n",
      "                                                                 \n",
      " dense (Dense)               (None, 6)                 390       \n",
      "                                                                 \n",
      "=================================================================\n",
      "Total params: 194,758\n",
      "Trainable params: 194,758\n",
      "Non-trainable params: 0\n",
      "_________________________________________________________________\n"
     ]
    }
   ],
   "source": [
    "def build_conv1D_model():\n",
    "    n_timesteps = train_data_reshaped.shape[1] \n",
    "    n_features  = train_data_reshaped.shape[2] \n",
    "    model = None\n",
    "    model = Sequential()\n",
    "    model.add(Input(shape=(n_timesteps,n_features)))\n",
    "\n",
    "    model.add(Conv1D(filters = 64, kernel_size = 2, activation = 'relu'))\n",
    "    # model.add(Dropout(0.2))\n",
    "    model.add(Conv1D(filters = 64, kernel_size = 2, activation = 'relu'))\n",
    "    model.add(Conv1D(filters = 64, kernel_size = 1, activation = 'relu'))\n",
    "    model.add(Conv1D(filters = 64, kernel_size = 1, activation = 'relu'))\n",
    "    model.add(Conv1D(filters = 64, kernel_size = 1, activation = 'relu'))\n",
    "    model.add(Conv1D(filters = 64, kernel_size = 1, activation = 'relu'))\n",
    "    model.add(Conv1D(filters = 64, kernel_size = 1, activation = 'relu'))\n",
    "\n",
    "#     model.add(Flatten())\n",
    "    \n",
    "    model.add(LSTM(64, activation = \"tanh\", return_sequences = True))\n",
    "    model.add(LSTM(64, activation = \"tanh\", return_sequences = True))\n",
    "    model.add(LSTM(64, activation = \"tanh\", return_sequences = True))\n",
    "    model.add(LSTM(64, activation = \"tanh\", return_sequences = True))\n",
    "\n",
    "    model.add(LSTM(64, activation = \"tanh\"))\n",
    "    \n",
    "    \n",
    "    model.add(Dense(6, activation = 'softmax'))\n",
    "\n",
    "    optimizer = \"adam\"\n",
    "\n",
    "    model.compile(loss='sparse_categorical_crossentropy', optimizer=optimizer, metrics=['accuracy'])\n",
    "    return model\n",
    "\n",
    "model_LSTM = build_conv1D_model()\n",
    "model_LSTM.summary()"
   ]
  },
  {
   "cell_type": "code",
   "execution_count": 9,
   "id": "ebf17e24",
   "metadata": {},
   "outputs": [
    {
     "name": "stdout",
     "output_type": "stream",
     "text": [
      "Epoch 1/10\n",
      "100000/100000 [==============================] - 3574s 35ms/step - loss: 0.0465 - accuracy: 0.9845\n",
      "Epoch 2/10\n",
      "100000/100000 [==============================] - 3642s 36ms/step - loss: 0.0386 - accuracy: 0.9874\n",
      "Epoch 3/10\n",
      "100000/100000 [==============================] - 3372s 34ms/step - loss: 0.0351 - accuracy: 0.9884\n",
      "Epoch 4/10\n",
      "100000/100000 [==============================] - 3260s 33ms/step - loss: 0.0344 - accuracy: 0.9886\n",
      "Epoch 5/10\n",
      "100000/100000 [==============================] - 3265s 33ms/step - loss: 0.0560 - accuracy: 0.9799\n",
      "Epoch 6/10\n",
      "100000/100000 [==============================] - 3651s 37ms/step - loss: 0.0351 - accuracy: 0.9884\n",
      "Epoch 7/10\n",
      "100000/100000 [==============================] - 3232s 32ms/step - loss: 0.0346 - accuracy: 0.9887\n",
      "Epoch 8/10\n",
      "100000/100000 [==============================] - 3115s 31ms/step - loss: 0.0349 - accuracy: 0.9886\n",
      "Epoch 9/10\n",
      "100000/100000 [==============================] - 3105s 31ms/step - loss: 0.0361 - accuracy: 0.9882\n",
      "Epoch 10/10\n",
      "100000/100000 [==============================] - 2646s 26ms/step - loss: 0.0365 - accuracy: 0.9880\n"
     ]
    }
   ],
   "source": [
    "X_train_arr = np.asarray(X_train.to_numpy())\n",
    "y_train_arr = np.asarray(y_train.to_numpy())\n",
    "history = model_LSTM.fit(X_train_arr, y_train_arr, epochs=10,\n",
    "                            verbose=1, batch_size = 32)"
   ]
  },
  {
   "cell_type": "code",
   "execution_count": 10,
   "id": "8d64485f",
   "metadata": {},
   "outputs": [
    {
     "name": "stdout",
     "output_type": "stream",
     "text": [
      "100000/100000 [==============================] - 669s 7ms/step - loss: 0.0341 - accuracy: 0.9885\n",
      "Loss: 0.03411107137799263  Accuracy: 0.988541841506958\n"
     ]
    }
   ],
   "source": [
    "acc = model_LSTM.evaluate(X_train, y_train)\n",
    "print(\"Loss:\", acc[0], \" Accuracy:\", acc[1])"
   ]
  },
  {
   "cell_type": "code",
   "execution_count": 15,
   "id": "7cde3d89",
   "metadata": {},
   "outputs": [],
   "source": [
    "pred = model_LSTM.predict(X_test)\n",
    "pred_y = pred.argmax(axis=-1)\n",
    "cm = confusion_matrix(y_test, pred_y)"
   ]
  },
  {
   "cell_type": "code",
   "execution_count": 16,
   "id": "36e75c4b",
   "metadata": {},
   "outputs": [
    {
     "data": {
      "text/plain": [
       "array([[132245,    358,    231,    155,    190,    115],\n",
       "       [   601, 131560,    270,    185,    239,    200],\n",
       "       [   422,    359, 131792,    206,    144,    179],\n",
       "       [   540,    403,    241, 132197,    161,    149],\n",
       "       [   456,    337,    308,    327, 131682,    170],\n",
       "       [   692,    519,    351,    341,    349, 131326]], dtype=int64)"
      ]
     },
     "execution_count": 16,
     "metadata": {},
     "output_type": "execute_result"
    }
   ],
   "source": [
    "cm"
   ]
  },
  {
   "cell_type": "code",
   "execution_count": 17,
   "id": "e8c12962",
   "metadata": {},
   "outputs": [
    {
     "name": "stdout",
     "output_type": "stream",
     "text": [
      "0.9885025\n"
     ]
    }
   ],
   "source": [
    "print(accuracy_score(y_test, pred_y))"
   ]
  },
  {
   "cell_type": "code",
   "execution_count": null,
   "id": "520a2f29",
   "metadata": {},
   "outputs": [],
   "source": []
  }
 ],
 "metadata": {
  "kernelspec": {
   "display_name": "sg",
   "language": "python",
   "name": "sg"
  },
  "language_info": {
   "codemirror_mode": {
    "name": "ipython",
    "version": 3
   },
   "file_extension": ".py",
   "mimetype": "text/x-python",
   "name": "python",
   "nbconvert_exporter": "python",
   "pygments_lexer": "ipython3",
   "version": "3.8.12"
  }
 },
 "nbformat": 4,
 "nbformat_minor": 5
}
