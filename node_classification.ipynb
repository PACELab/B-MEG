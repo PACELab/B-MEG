{
 "cells": [
  {
   "cell_type": "code",
   "execution_count": null,
   "id": "939c325b",
   "metadata": {},
   "outputs": [],
   "source": [
    "import os\n",
    "import sys\n",
    "import numpy as np\n",
    "import pandas as pd\n",
    "import pickle\n",
    "from stellargraph import StellarGraph\n",
    "from stellargraph import datasets\n",
    "from IPython.display import display, HTML\n",
    "\n",
    "\n",
    "from stellargraph.mapper import FullBatchNodeGenerator\n",
    "from stellargraph.layer import GCN\n",
    "from tensorflow.keras.layers import Dense\n",
    "from tensorflow.keras.models import Model\n",
    "from sklearn.model_selection import train_test_split\n",
    "from tensorflow.keras.callbacks import EarlyStopping\n",
    "from sklearn.metrics import classification_report"
   ]
  },
  {
   "cell_type": "code",
   "execution_count": null,
   "id": "a1df05da",
   "metadata": {},
   "outputs": [],
   "source": [
    "filehandler = open(\"../data/sample_data/hotel_reservation_only_bottlenecks_sample.pkl\",\"rb\")\n",
    "dat = pickle.load(filehandler)\n",
    "filehandler.close()\n",
    "print(type(dat))\n",
    "print(dat.shape)"
   ]
  },
  {
   "cell_type": "code",
   "execution_count": null,
   "id": "a2734135",
   "metadata": {},
   "outputs": [],
   "source": [
    "df = dat.sample(frac=1)\n",
    "df_without_labels = df.copy()\n",
    "df_without_labels = df_without_labels.drop(columns=['label'])\n",
    "df.columns\n",
    "df_check = df[df.label == -1]"
   ]
  },
  {
   "cell_type": "code",
   "execution_count": null,
   "id": "ecd431cb",
   "metadata": {},
   "outputs": [],
   "source": [
    "graph_edges = pd.DataFrame(\n",
    "    {\"source\": [\"0\", \"0\", \"1\", \"1\", \"4\"], \n",
    "     \"target\": [\"1\", \"4\", \"2\", \"3\", \"5\"]}\n",
    ")\n",
    "graph_edges"
   ]
  },
  {
   "cell_type": "code",
   "execution_count": null,
   "id": "fae0db70",
   "metadata": {},
   "outputs": [],
   "source": [
    "node_indices = [str(i) for i in range(len(df_without_labels.columns))]"
   ]
  },
  {
   "cell_type": "code",
   "execution_count": null,
   "id": "a02e73d8",
   "metadata": {},
   "outputs": [],
   "source": [
    "df_sample = df.groupby('label', group_keys=False).apply(lambda x: x.sample(frac=0.1))"
   ]
  },
  {
   "cell_type": "code",
   "execution_count": null,
   "id": "2237c1eb",
   "metadata": {},
   "outputs": [],
   "source": [
    "df_sample['label'].value_counts()"
   ]
  },
  {
   "cell_type": "code",
   "execution_count": null,
   "id": "aab4307c",
   "metadata": {},
   "outputs": [],
   "source": [
    "graphs = []\n",
    "graph_labels = []\n",
    "count = 0\n",
    "for index,row in df_sample.iterrows():\n",
    "    count = count + 1\n",
    "    label = row['label']\n",
    "    node_features = row.drop(labels = ['label'])\n",
    "    graph_nodes = pd.DataFrame({\"x\": node_features.tolist()}, index = node_indices)\n",
    "    graph = StellarGraph(graph_nodes, graph_edges)\n",
    "    graphs.append(graph)\n",
    "    graph_labels.append(label)\n",
    "    if count % 10000 == 0:\n",
    "        print(count)"
   ]
  },
  {
   "cell_type": "code",
   "execution_count": null,
   "id": "dbf822ce",
   "metadata": {},
   "outputs": [],
   "source": [
    "graph_label_lists = graph_labels.copy()\n",
    "graph_labels = pd.Series(graph_label_lists)"
   ]
  },
  {
   "cell_type": "code",
   "execution_count": null,
   "id": "1d5075e7",
   "metadata": {},
   "outputs": [],
   "source": [
    "graph_labels.value_counts().to_frame()"
   ]
  },
  {
   "cell_type": "code",
   "execution_count": null,
   "id": "990bbf23",
   "metadata": {},
   "outputs": [],
   "source": [
    "graphs_train, graphs_test, graph_labels_train, graph_labels_test = train_test_split(\n",
    "    graphs, graph_labels, test_size=0.2, stratify=graph_labels\n",
    ")"
   ]
  },
  {
   "cell_type": "code",
   "execution_count": null,
   "id": "24aa8dac",
   "metadata": {},
   "outputs": [],
   "source": [
    "generator = PaddedGraphGenerator(graphs=graphs_train)\n",
    "gen = generator.flow(list(range(len(graphs_train))), graph_labels_train, shuffle=True)"
   ]
  },
  {
   "cell_type": "code",
   "execution_count": null,
   "id": "2bde334c",
   "metadata": {},
   "outputs": [],
   "source": [
    "layer_sizes = [32, 32, 32]\n",
    "gcn = GCN(\n",
    "    layer_sizes=layer_sizes, activations=[\"relu\", \"relu\", \"relu\"], generator=generator, dropout=0.5\n",
    ")"
   ]
  },
  {
   "cell_type": "code",
   "execution_count": null,
   "id": "267f2ce7",
   "metadata": {},
   "outputs": [],
   "source": [
    "# Expose input and output sockets of GCN, for node classification\n",
    "x_in, x_out = gcn.in_out_tensors()\n",
    "x_out = Dense(units=1, activation=\"tanh\")(x_out)"
   ]
  },
  {
   "cell_type": "code",
   "execution_count": null,
   "id": "c077b37b",
   "metadata": {},
   "outputs": [],
   "source": [
    "model = Model(inputs=x_in, outputs=x_out)\n",
    "model.compile(optimizer=Adam(learning_rate=0.005), loss=binary_crossentropy, metrics=[\"acc\"])\n"
   ]
  },
  {
   "cell_type": "code",
   "execution_count": null,
   "id": "158e55bc",
   "metadata": {},
   "outputs": [],
   "source": [
    "early_stop = EarlyStopping(monitor=\"val_acc\", patience=10, restore_best_weights=True)\n",
    "history = model.fit(\n",
    "    gen, validation_data=gen, epochs=20, verbose=1, callbacks=[early_stop]\n",
    ")\n"
   ]
  },
  {
   "cell_type": "code",
   "execution_count": null,
   "id": "33140347",
   "metadata": {},
   "outputs": [],
   "source": [
    "# Evaluate the model\n",
    "test_gen = generator.flow(list(range(len(graphs_test))), graph_labels_test)\n",
    "test_metrics = model.evaluate(test_gen)\n",
    "print(\"\\nTest Set Metrics:\")\n",
    "for name, val in zip(model.metrics_names, test_metrics):\n",
    "    print(\"\\t{}: {:0.4f}\".format(name, val))\n",
    "\n",
    "# If you want to get the classification report:\n",
    "test_predictions = model.predict(test_gen)\n",
    "test_predictions_class = np.where(test_predictions > 0.5, 1, 0)\n",
    "print(classification_report(graph_labels_test, test_predictions_class))"
   ]
  }
 ],
 "metadata": {
  "kernelspec": {
   "display_name": "Python 3 (ipykernel)",
   "language": "python",
   "name": "python3"
  },
  "language_info": {
   "codemirror_mode": {
    "name": "ipython",
    "version": 3
   },
   "file_extension": ".py",
   "mimetype": "text/x-python",
   "name": "python",
   "nbconvert_exporter": "python",
   "pygments_lexer": "ipython3",
   "version": "3.9.13"
  }
 },
 "nbformat": 4,
 "nbformat_minor": 5
}
