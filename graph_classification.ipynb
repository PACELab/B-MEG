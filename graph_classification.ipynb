{
 "cells": [
  {
   "cell_type": "code",
   "execution_count": null,
   "id": "a69fa949",
   "metadata": {},
   "outputs": [],
   "source": [
    "import os\n",
    "import sys\n",
    "import numpy as np\n",
    "import pandas as pd\n",
    "import pickle\n",
    "from stellargraph import StellarGraph\n",
    "from stellargraph import datasets\n",
    "from IPython.display import display, HTML\n",
    "\n",
    "\n",
    "import pandas as pd\n",
    "import numpy as np\n",
    "from stellargraph import StellarGraph\n",
    "import stellargraph as sg\n",
    "from stellargraph.mapper import PaddedGraphGenerator\n",
    "from stellargraph.layer import DeepGraphCNN\n",
    "from stellargraph import StellarGraph\n",
    "\n",
    "from stellargraph import datasets\n",
    "\n",
    "from sklearn import model_selection\n",
    "from IPython.display import display, HTML\n",
    "\n",
    "from tensorflow.keras import Model\n",
    "from tensorflow.keras.optimizers import Adam\n",
    "from tensorflow.keras.layers import Dense, Conv1D, MaxPool1D, Dropout, Flatten\n",
    "from tensorflow.keras.losses import binary_crossentropy\n",
    "import tensorflow as tf\n",
    "import json"
   ]
  },
  {
   "cell_type": "code",
   "execution_count": null,
   "id": "587dd7b2",
   "metadata": {},
   "outputs": [],
   "source": [
    "filehandler = open(\"../data/sample_data/hotel_reservation_sample.pkl\",\"rb\")\n",
    "dat = pickle.load(filehandler)\n",
    "filehandler.close()\n",
    "print(type(dat))\n",
    "print(dat.shape)"
   ]
  },
  {
   "cell_type": "code",
   "execution_count": null,
   "id": "71122e3e",
   "metadata": {},
   "outputs": [],
   "source": [
    "df = dat.sample(frac=1)\n",
    "df_without_labels = df.copy()\n",
    "df_without_labels = df_without_labels.drop(columns=['label'])\n",
    "df.columns\n",
    "df_check = df[df.label == -1]"
   ]
  },
  {
   "cell_type": "code",
   "execution_count": null,
   "id": "f2ca411e",
   "metadata": {},
   "outputs": [],
   "source": [
    "df['has_bottleneck'] = 1\n",
    "df.loc[df.label == -1,'has_bottleneck'] = 0\n",
    "df_graph_class = df.copy()\n",
    "df_graph_class['has_bottleneck'] = 1\n",
    "df_graph_class.loc[df_graph_class.label == -1,'has_bottleneck'] = 0\n",
    "df_graph_class = df_graph_class.drop(columns = ['label'])"
   ]
  },
  {
   "cell_type": "code",
   "execution_count": null,
   "id": "fc68e2b8",
   "metadata": {},
   "outputs": [],
   "source": [
    "graph_edges = pd.DataFrame(\n",
    "    {\"source\": [\"0\", \"0\", \"1\", \"1\", \"4\"], \n",
    "     \"target\": [\"1\", \"4\", \"2\", \"3\", \"5\"]}\n",
    ")\n",
    "graph_edges"
   ]
  },
  {
   "cell_type": "code",
   "execution_count": null,
   "id": "5fe503c4",
   "metadata": {},
   "outputs": [],
   "source": [
    "node_indices = [str(i) for i in range(len(df_without_labels.columns))]"
   ]
  },
  {
   "cell_type": "code",
   "execution_count": null,
   "id": "eb1a618b",
   "metadata": {},
   "outputs": [],
   "source": [
    "df_sample = df.groupby('has_bottleneck', group_keys=False).apply(lambda x: x.sample(frac=0.1))"
   ]
  },
  {
   "cell_type": "code",
   "execution_count": null,
   "id": "b1dcdc6f",
   "metadata": {},
   "outputs": [],
   "source": [
    "df_sample['has_bottleneck'].value_counts()"
   ]
  },
  {
   "cell_type": "code",
   "execution_count": null,
   "id": "7b84ac8a",
   "metadata": {},
   "outputs": [],
   "source": [
    "graphs = []\n",
    "graph_labels = []\n",
    "count = 0\n",
    "for index,row in df_sample.iterrows():\n",
    "    count = count + 1\n",
    "    label = row['has_bottleneck']\n",
    "    node_features = row.drop(labels = ['label', 'has_bottleneck'])\n",
    "    graph_nodes = pd.DataFrame({\"x\": node_features.tolist()}, index = node_indices)\n",
    "    graph = StellarGraph(graph_nodes, graph_edges)\n",
    "    graphs.append(graph)\n",
    "    graph_labels.append(label)\n",
    "    if count % 10000 == 0:\n",
    "        print(count)"
   ]
  },
  {
   "cell_type": "code",
   "execution_count": null,
   "id": "b66ec731",
   "metadata": {},
   "outputs": [],
   "source": [
    "graph_label_lists = graph_labels.copy()\n",
    "graph_labels = pd.Series(graph_label_lists)"
   ]
  },
  {
   "cell_type": "code",
   "execution_count": null,
   "id": "80100e6d",
   "metadata": {},
   "outputs": [],
   "source": [
    "graph_labels.value_counts().to_frame()"
   ]
  },
  {
   "cell_type": "code",
   "execution_count": null,
   "id": "aa5d1a3d",
   "metadata": {},
   "outputs": [],
   "source": [
    "graph_labels = pd.get_dummies(graph_labels, drop_first=True)"
   ]
  },
  {
   "cell_type": "code",
   "execution_count": null,
   "id": "ea1888c4",
   "metadata": {},
   "outputs": [],
   "source": [
    "generator = PaddedGraphGenerator(graphs=graphs)"
   ]
  },
  {
   "cell_type": "code",
   "execution_count": null,
   "id": "39840c62",
   "metadata": {},
   "outputs": [],
   "source": [
    "k = 35  # the number of rows for the output tensor\n",
    "layer_sizes = [32, 32, 32, 1]\n",
    "\n",
    "dgcnn_model = DeepGraphCNN(\n",
    "    layer_sizes=layer_sizes,\n",
    "    activations=[\"tanh\", \"tanh\", \"tanh\", \"tanh\"],\n",
    "    k=k,\n",
    "    bias=False,\n",
    "    generator=generator,\n",
    ")\n",
    "x_inp, x_out = dgcnn_model.in_out_tensors()"
   ]
  },
  {
   "cell_type": "code",
   "execution_count": null,
   "id": "a0bd1103",
   "metadata": {},
   "outputs": [],
   "source": [
    "x_out = Conv1D(filters=16, kernel_size=sum(layer_sizes), strides=sum(layer_sizes))(x_out)\n",
    "x_out = MaxPool1D(pool_size=2)(x_out)\n",
    "\n",
    "x_out = Conv1D(filters=32, kernel_size=5, strides=1)(x_out)\n",
    "\n",
    "x_out = Flatten()(x_out)\n",
    "\n",
    "x_out = Dense(units=128, activation=\"relu\")(x_out)\n",
    "x_out = Dropout(rate=0.5)(x_out)\n",
    "\n",
    "predictions = Dense(units=1, activation=\"sigmoid\")(x_out)"
   ]
  },
  {
   "cell_type": "code",
   "execution_count": null,
   "id": "b9bd408b",
   "metadata": {},
   "outputs": [],
   "source": [
    "model = Model(inputs=x_inp, outputs=predictions)\n",
    "\n",
    "model.compile(\n",
    "    optimizer=Adam(lr=0.0001), loss=binary_crossentropy, metrics=[\"acc\"],\n",
    ")"
   ]
  },
  {
   "cell_type": "code",
   "execution_count": null,
   "id": "4dc4c4ea",
   "metadata": {},
   "outputs": [],
   "source": [
    "train_graphs, test_graphs = model_selection.train_test_split(\n",
    "    graph_labels, train_size=0.9, test_size=None, stratify=graph_labels,\n",
    ")"
   ]
  },
  {
   "cell_type": "code",
   "execution_count": null,
   "id": "3abf6123",
   "metadata": {},
   "outputs": [],
   "source": [
    "gen = PaddedGraphGenerator(graphs=graphs)\n",
    "\n",
    "train_gen = gen.flow(\n",
    "    list(train_graphs.index - 1),\n",
    "    targets=train_graphs.values,\n",
    "    batch_size=50,\n",
    "    symmetric_normalization=False,\n",
    ")\n",
    "\n",
    "test_gen = gen.flow(\n",
    "    list(test_graphs.index - 1),\n",
    "    targets=test_graphs.values,\n",
    "    batch_size=1,\n",
    "    symmetric_normalization=False,\n",
    ")"
   ]
  },
  {
   "cell_type": "code",
   "execution_count": null,
   "id": "aaeacdce",
   "metadata": {},
   "outputs": [],
   "source": [
    "epochs = 10"
   ]
  },
  {
   "cell_type": "code",
   "execution_count": null,
   "id": "4b1558e1",
   "metadata": {},
   "outputs": [],
   "source": [
    "history = model.fit(\n",
    "    train_gen, epochs=epochs, verbose=1, validation_data=test_gen, shuffle=True,\n",
    ")"
   ]
  },
  {
   "cell_type": "code",
   "execution_count": null,
   "id": "25228285",
   "metadata": {},
   "outputs": [],
   "source": [
    "sg.utils.plot_history(history)"
   ]
  },
  {
   "cell_type": "code",
   "execution_count": null,
   "id": "9a0b1094",
   "metadata": {},
   "outputs": [],
   "source": [
    "test_metrics = model.evaluate(test_gen)\n",
    "print(\"\\nTest Set Metrics:\")\n",
    "for name, val in zip(model.metrics_names, test_metrics):\n",
    "    print(\"\\t{}: {:0.4f}\".format(name, val))"
   ]
  },
  {
   "cell_type": "code",
   "execution_count": null,
   "id": "c4cbab98",
   "metadata": {},
   "outputs": [],
   "source": []
  }
 ],
 "metadata": {
  "kernelspec": {
   "display_name": "sg",
   "language": "python",
   "name": "sg"
  },
  "language_info": {
   "codemirror_mode": {
    "name": "ipython",
    "version": 3
   },
   "file_extension": ".py",
   "mimetype": "text/x-python",
   "name": "python",
   "nbconvert_exporter": "python",
   "pygments_lexer": "ipython3",
   "version": "3.8.12"
  }
 },
 "nbformat": 4,
 "nbformat_minor": 5
}
