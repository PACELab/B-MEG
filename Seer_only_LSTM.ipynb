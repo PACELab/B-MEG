{
 "cells": [
  {
   "cell_type": "code",
   "execution_count": 2,
   "id": "ac1f6e27",
   "metadata": {},
   "outputs": [],
   "source": [
    "import os\n",
    "import sys\n",
    "import numpy as np\n",
    "import pandas as pd\n",
    "from keras.models import Sequential\n",
    "from keras.layers import Dense, Conv2D, Flatten, Conv1D, Input, Dropout, MaxPooling1D, LSTM\n",
    "from keras import optimizers\n",
    "import pickle\n",
    "from sklearn.model_selection import train_test_split\n",
    "from sklearn.metrics import confusion_matrix, accuracy_score, precision_score, recall_score, f1_score"
   ]
  },
  {
   "cell_type": "code",
   "execution_count": 3,
   "id": "311695f6",
   "metadata": {},
   "outputs": [
    {
     "name": "stdout",
     "output_type": "stream",
     "text": [
      "<class 'pandas.core.frame.DataFrame'>\n",
      "(3999996, 7)\n"
     ]
    }
   ],
   "source": [
    "filehandler = open(\"../data/sample_data/hotel_reservation_only_bottlenecks_sample.pkl\",\"rb\")\n",
    "dat = pickle.load(filehandler)\n",
    "filehandler.close()\n",
    "print(type(dat))\n",
    "print(dat.shape)"
   ]
  },
  {
   "cell_type": "code",
   "execution_count": 4,
   "id": "cdac241e",
   "metadata": {},
   "outputs": [],
   "source": [
    "batch_size = 4"
   ]
  },
  {
   "cell_type": "code",
   "execution_count": 5,
   "id": "29cdb5fc",
   "metadata": {},
   "outputs": [],
   "source": [
    "df = dat.copy()\n",
    "X = df.drop(columns = \"label\")\n",
    "y = df.loc[:, \"label\"]"
   ]
  },
  {
   "cell_type": "code",
   "execution_count": 6,
   "id": "604caaa8",
   "metadata": {},
   "outputs": [],
   "source": [
    "X_train, X_test, y_train, y_test = train_test_split(X, y, test_size=0.2, random_state=42)\n",
    "X_train = X_train.reset_index()\n",
    "X_train = X_train.drop(columns = \"index\")\n",
    "X_test = X_test.reset_index()\n",
    "X_test = X_test.drop(columns = \"index\")\n",
    "\n",
    "y_train = y_train.reset_index()\n",
    "y_train = y_train.drop(columns = \"index\")\n",
    "y_train = y_train.loc[:, \"label\"]\n",
    "y_test = y_test.reset_index()\n",
    "y_test = y_test.drop(columns = \"index\")\n",
    "y_test = y_test.loc[:, \"label\"]\n"
   ]
  },
  {
   "cell_type": "code",
   "execution_count": 7,
   "id": "423935a3",
   "metadata": {},
   "outputs": [],
   "source": [
    "X_count = X_train.shape[0]\n",
    "batch_count= X_count // batch_size\n",
    "\n",
    "X_train_batch_list = []\n",
    "y_train_batch_list = []\n",
    "\n",
    "\n",
    "shuffled_range = range(X_count)\n",
    "shuffled_X = X_train.iloc[shuffled_range, :]\n",
    "shuffled_Y = [y_train[i] for i in shuffled_range]\n",
    "for i in range(0, 10):\n",
    "\n",
    "    y_train_batch = shuffled_Y[i*batch_size :(i +1)* batch_size]\n",
    "    X_train_batch = shuffled_X[i*batch_size :(i +1)* batch_size]\n",
    "\n",
    "    y_train_batch_list.append(y_train_batch)\n",
    "    X_train_batch_list.append(X_train_batch)\n",
    "        \n",
    "        # vectorizer.fit_transform(train_data[i:i + batchSize])\n",
    "        # Update the classifier with documents in the current mini-batch\n"
   ]
  },
  {
   "cell_type": "code",
   "execution_count": 8,
   "id": "cb34acd7",
   "metadata": {},
   "outputs": [
    {
     "name": "stdout",
     "output_type": "stream",
     "text": [
      "After reshape train data set shape:\n",
      " (4, 6, 1)\n",
      "1 Sample shape:\n",
      " (6, 1)\n",
      "An example sample:\n",
      " [[0.87874428]\n",
      " [0.02903283]\n",
      " [0.01747466]\n",
      " [0.02536331]\n",
      " [0.02607459]\n",
      " [0.02331032]]\n"
     ]
    }
   ],
   "source": [
    "train_data_pd = X_train_batch_list[0]\n",
    "train_label = y_train_batch_list[0]\n",
    "train_data = train_data_pd.to_numpy()\n",
    "\n",
    "sample_size = train_data.shape[0] # number of samples in train set\n",
    "time_steps  = train_data.shape[1] # number of features in train set\n",
    "input_dimension = 1         \n",
    "\n",
    "train_data_reshaped = train_data.reshape(sample_size,time_steps,input_dimension)\n",
    "print(\"After reshape train data set shape:\\n\", train_data_reshaped.shape)\n",
    "print(\"1 Sample shape:\\n\",train_data_reshaped[0].shape)\n",
    "print(\"An example sample:\\n\", train_data_reshaped[0])\n"
   ]
  },
  {
   "cell_type": "code",
   "execution_count": 10,
   "id": "f784c6e1",
   "metadata": {
    "scrolled": true
   },
   "outputs": [
    {
     "name": "stdout",
     "output_type": "stream",
     "text": [
      "Model: \"sequential_1\"\n",
      "_________________________________________________________________\n",
      " Layer (type)                Output Shape              Param #   \n",
      "=================================================================\n",
      " lstm_1 (LSTM)               (None, 6, 4)              96        \n",
      "                                                                 \n",
      "=================================================================\n",
      "Total params: 96\n",
      "Trainable params: 96\n",
      "Non-trainable params: 0\n",
      "_________________________________________________________________\n"
     ]
    }
   ],
   "source": [
    "def build_conv1D_model():\n",
    "    n_timesteps = train_data_reshaped.shape[1] \n",
    "    n_features  = train_data_reshaped.shape[2] \n",
    "    model = None\n",
    "    model = Sequential()\n",
    "    model.add(Input(shape=(n_timesteps,n_features)))\n",
    "\n",
    "#     model.add(Dense(64, activation = \"sigmoid\"))\n",
    "#     model.add(Dense(64, activation = \"sigmoid\"))\n",
    "#     model.add(Dense(64, activation = \"sigmoid\"))\n",
    "#     model.add(Dense(64, activation = \"sigmoid\"))\n",
    "#     model.add(Dense(64, activation = \"sigmoid\"))\n",
    "#     model.add(Dense(64, activation = \"sigmoid\"))\n",
    "    \n",
    "    model.add(LSTM(4, activation = \"tanh\", return_sequences = True))\n",
    "#     model.add(LSTM(64, activation = \"tanh\", return_sequences = True))\n",
    "#     model.add(LSTM(64, activation = \"tanh\", return_sequences = True))\n",
    "#     model.add(LSTM(64, activation = \"tanh\", return_sequences = True))\n",
    "#     model.add(LSTM(64, activation = \"tanh\", return_sequences = True))\n",
    "#     model.add(LSTM(64, activation = \"tanh\"))\n",
    "    \n",
    "\n",
    "#     model.add(Dense(64, activation = \"sigmoid\"))\n",
    "#     model.add(Dense(64, activation = \"sigmoid\"))\n",
    "#     model.add(Dense(64, activation = \"sigmoid\"))\n",
    "#     model.add(Dense(64, activation = \"sigmoid\"))\n",
    "#     model.add(Dense(64, activation = \"sigmoid\"))\n",
    "#     model.add(Dense(64, activation = \"sigmoid\"))\n",
    "\n",
    "    \n",
    "#     model.add(Dense(6, activation = 'softmax'))\n",
    "\n",
    "    optimizer = \"adam\"\n",
    "\n",
    "    model.compile(loss='sparse_categorical_crossentropy', optimizer=optimizer, metrics=['accuracy'])\n",
    "    return model\n",
    "\n",
    "model_LSTM = build_conv1D_model()\n",
    "model_LSTM.summary()"
   ]
  },
  {
   "cell_type": "code",
   "execution_count": null,
   "id": "ebf17e24",
   "metadata": {},
   "outputs": [],
   "source": [
    "X_train_arr = np.asarray(X_train.to_numpy())\n",
    "y_train_arr = np.asarray(y_train.to_numpy())\n",
    "history = model_LSTM.fit(X_train_arr, y_train_arr, epochs=10,\n",
    "                            verbose=1, batch_size = 32)"
   ]
  },
  {
   "cell_type": "code",
   "execution_count": 1,
   "id": "8d64485f",
   "metadata": {},
   "outputs": [
    {
     "ename": "NameError",
     "evalue": "name 'model_LSTM' is not defined",
     "output_type": "error",
     "traceback": [
      "\u001b[1;31m---------------------------------------------------------------------------\u001b[0m",
      "\u001b[1;31mNameError\u001b[0m                                 Traceback (most recent call last)",
      "\u001b[1;32m<ipython-input-1-e9b972ffe0b6>\u001b[0m in \u001b[0;36m<module>\u001b[1;34m\u001b[0m\n\u001b[1;32m----> 1\u001b[1;33m \u001b[0macc\u001b[0m \u001b[1;33m=\u001b[0m \u001b[0mmodel_LSTM\u001b[0m\u001b[1;33m.\u001b[0m\u001b[0mevaluate\u001b[0m\u001b[1;33m(\u001b[0m\u001b[0mX_train\u001b[0m\u001b[1;33m,\u001b[0m \u001b[0my_train\u001b[0m\u001b[1;33m)\u001b[0m\u001b[1;33m\u001b[0m\u001b[1;33m\u001b[0m\u001b[0m\n\u001b[0m\u001b[0;32m      2\u001b[0m \u001b[0mprint\u001b[0m\u001b[1;33m(\u001b[0m\u001b[1;34m\"Loss:\"\u001b[0m\u001b[1;33m,\u001b[0m \u001b[0macc\u001b[0m\u001b[1;33m[\u001b[0m\u001b[1;36m0\u001b[0m\u001b[1;33m]\u001b[0m\u001b[1;33m,\u001b[0m \u001b[1;34m\" Accuracy:\"\u001b[0m\u001b[1;33m,\u001b[0m \u001b[0macc\u001b[0m\u001b[1;33m[\u001b[0m\u001b[1;36m1\u001b[0m\u001b[1;33m]\u001b[0m\u001b[1;33m)\u001b[0m\u001b[1;33m\u001b[0m\u001b[1;33m\u001b[0m\u001b[0m\n",
      "\u001b[1;31mNameError\u001b[0m: name 'model_LSTM' is not defined"
     ]
    }
   ],
   "source": [
    "acc = model_LSTM.evaluate(X_train, y_train)\n",
    "print(\"Loss:\", acc[0], \" Accuracy:\", acc[1])"
   ]
  },
  {
   "cell_type": "code",
   "execution_count": null,
   "id": "7cde3d89",
   "metadata": {},
   "outputs": [],
   "source": [
    "pred = model_LSTM.predict(X_test)\n",
    "pred_y = pred.argmax(axis=-1)\n",
    "cm = confusion_matrix(y_test, pred_y)"
   ]
  },
  {
   "cell_type": "code",
   "execution_count": null,
   "id": "9d7fc49c",
   "metadata": {},
   "outputs": [],
   "source": [
    "cm"
   ]
  },
  {
   "cell_type": "code",
   "execution_count": null,
   "id": "879f672d",
   "metadata": {},
   "outputs": [],
   "source": [
    "print(accuracy_score(y_test, pred_y))"
   ]
  },
  {
   "cell_type": "code",
   "execution_count": null,
   "id": "1ea55add",
   "metadata": {},
   "outputs": [],
   "source": []
  }
 ],
 "metadata": {
  "kernelspec": {
   "display_name": "sg",
   "language": "python",
   "name": "sg"
  },
  "language_info": {
   "codemirror_mode": {
    "name": "ipython",
    "version": 3
   },
   "file_extension": ".py",
   "mimetype": "text/x-python",
   "name": "python",
   "nbconvert_exporter": "python",
   "pygments_lexer": "ipython3",
   "version": "3.8.12"
  }
 },
 "nbformat": 4,
 "nbformat_minor": 5
}
